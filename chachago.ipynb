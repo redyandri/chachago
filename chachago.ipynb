{
 "cells": [
  {
   "cell_type": "code",
   "execution_count": 1,
   "id": "d4c3e757-cf81-4657-86b0-27daa48626d0",
   "metadata": {},
   "outputs": [
    {
     "ename": "ModuleNotFoundError",
     "evalue": "No module named 'easyocr'",
     "output_type": "error",
     "traceback": [
      "\u001b[0;31m---------------------------------------------------------------------------\u001b[0m",
      "\u001b[0;31mModuleNotFoundError\u001b[0m                       Traceback (most recent call last)",
      "Cell \u001b[0;32mIn[1], line 46\u001b[0m\n\u001b[1;32m     44\u001b[0m \u001b[38;5;66;03m# from decouple import config\u001b[39;00m\n\u001b[1;32m     45\u001b[0m \u001b[38;5;28;01mimport\u001b[39;00m \u001b[38;5;21;01mcolorsys\u001b[39;00m\n\u001b[0;32m---> 46\u001b[0m \u001b[38;5;28;01mimport\u001b[39;00m \u001b[38;5;21;01measyocr\u001b[39;00m\n\u001b[1;32m     47\u001b[0m \u001b[38;5;28;01mfrom\u001b[39;00m \u001b[38;5;21;01mpdf2image\u001b[39;00m \u001b[38;5;28;01mimport\u001b[39;00m convert_from_path\n\u001b[1;32m     48\u001b[0m \u001b[38;5;28;01mfrom\u001b[39;00m \u001b[38;5;21;01mtqdm\u001b[39;00m \u001b[38;5;28;01mimport\u001b[39;00m tqdm\n",
      "\u001b[0;31mModuleNotFoundError\u001b[0m: No module named 'easyocr'"
     ]
    }
   ],
   "source": [
    "from fastapi import FastAPI, File\n",
    "from starlette.requests import Request\n",
    "import pickle\n",
    "import numpy as np\n",
    "from Sastrawi.StopWordRemover.StopWordRemoverFactory import StopWordRemoverFactory, StopWordRemover, ArrayDictionary\n",
    "from Sastrawi.Stemmer.StemmerFactory import StemmerFactory\n",
    "import pandas as pd\n",
    "import nltk\n",
    "from nltk.tokenize import RegexpTokenizer\n",
    "from nltk.corpus import stopwords\n",
    "from nltk.stem import PorterStemmer\n",
    "from sklearn.feature_extraction.text import TfidfVectorizer\n",
    "import re\n",
    "import random\n",
    "import uuid\n",
    "from fastapi.encoders import jsonable_encoder\n",
    "from fastapi.responses import JSONResponse\n",
    "from fastapi.responses import Response\n",
    "from fastapi import APIRouter\n",
    "from fastapi.routing import APIRoute\n",
    "from typing import Callable\n",
    "from pydantic import BaseModel\n",
    "from fastapi import Body\n",
    "import uvicorn\n",
    "import datetime\n",
    "import io\n",
    "import json\n",
    "from typing import List\n",
    "from typing import Dict\n",
    "from pydantic import BaseModel\n",
    "import queue\n",
    "# from docxtpl import DocxTemplate\n",
    "from io import StringIO\n",
    "from starlette.responses import StreamingResponse\n",
    "# import redis\n",
    "from fastapi.middleware.cors import CORSMiddleware\n",
    "# from starlette.middleware.cors import CORSMiddleware\n",
    "# from starlette.middleware import Middleware\n",
    "import logging\n",
    "from datetime import datetime\n",
    "import math\n",
    "# from neo4j import GraphDatabase\n",
    "from nltk.tag import CRFTagger\n",
    "# from decouple import config\n",
    "import colorsys\n",
    "import easyocr\n",
    "from pdf2image import convert_from_path\n",
    "from tqdm import tqdm\n",
    "import os\n",
    "import shutil\n",
    "import re\n",
    "import sys\n",
    "import glob\n",
    "import os\n",
    "import io\n",
    "os.environ['GOOGLE_APPLICATION_CREDENTIALS'] ='data/json/proven-cider-382907-953301e26635.json'\n",
    "from google.cloud import vision\n",
    "import re\n",
    "\n",
    "app = FastAPI()\n",
    "origins = [\"*\"]\n",
    "\n",
    "\n",
    "app.add_middleware(\n",
    "    CORSMiddleware,\n",
    "    allow_origins=origins,\n",
    "    allow_credentials=True,\n",
    "    allow_methods=[\"*\"],\n",
    "    allow_headers=[\"*\"]\n",
    ")\n",
    "\n",
    "class Response_Item(BaseModel):\n",
    "    code: str\n",
    "    activity: str\n",
    "    level: str\n",
    "    credit: float\n",
    "\n",
    "\n",
    "class Responses(BaseModel):\n",
    "    val: Dict[str, Response_Item]\n",
    "\n",
    "headers={'Access-Control-Allow-Origin': '*',\n",
    "'Access-Control-Allow-Methods': '*',\n",
    "'Access-Control-Allow-Headers': '*'\n",
    "}\n",
    "\n",
    "@app.post(\"/search/\")\n",
    "async def search(request: Request):\n",
    "    return {'message':'bismillah'}\n",
    "\n",
    "@app.post(\"/verify\")\n",
    "async def verify(request: Request,\n",
    "                 face: bytes = File(...)):\n",
    "    form = await request.form()\n",
    "    id=int(form[\"id\"])\n",
    "    # absent_date=form[\"absent_date\"]     #format '2018-06-29 08:15:27.243860'\n",
    "    stream = io.BytesIO(face)\n",
    "    data = np.fromstring(stream.getvalue(), dtype=np.uint8)\n",
    "    img_bgr = cv2.imdecode(data, cv2.IMREAD_COLOR)\n",
    "    return {'api':type(img_bgr)}\n",
    "    "
   ]
  },
  {
   "cell_type": "code",
   "execution_count": 27,
   "id": "700f797e-1b03-4f29-ab3e-86169312f028",
   "metadata": {},
   "outputs": [
    {
     "name": "stdout",
     "output_type": "stream",
     "text": [
      "Collecting opencv-python\n",
      "  Downloading opencv_python-4.7.0.72-cp37-abi3-manylinux_2_17_x86_64.manylinux2014_x86_64.whl (61.8 MB)\n",
      "\u001b[2K     \u001b[90m━━━━━━━━━━━━━━━━━━━━━━━━━━━━━━━━━━━━━━━━\u001b[0m \u001b[32m61.8/61.8 MB\u001b[0m \u001b[31m10.5 MB/s\u001b[0m eta \u001b[36m0:00:00\u001b[0m00:01\u001b[0m00:01\u001b[0m\n",
      "\u001b[?25hRequirement already satisfied: numpy>=1.17.0 in ./miniconda3/lib/python3.8/site-packages (from opencv-python) (1.24.3)\n",
      "Installing collected packages: opencv-python\n",
      "Successfully installed opencv-python-4.7.0.72\n"
     ]
    }
   ],
   "source": [
    "!pip install opencv-python"
   ]
  },
  {
   "cell_type": "code",
   "execution_count": 23,
   "id": "d00d2c18-618e-4916-9333-b932ce2afbf5",
   "metadata": {},
   "outputs": [
    {
     "name": "stdout",
     "output_type": "stream",
     "text": [
      "\u001b[31mERROR\u001b[0m:    Error loading ASGI app. Attribute \"app\" not found in module \"main\".\n"
     ]
    }
   ],
   "source": [
    "!uvicorn main:app"
   ]
  }
 ],
 "metadata": {
  "kernelspec": {
   "display_name": "Python 3",
   "language": "python",
   "name": "python3"
  },
  "language_info": {
   "codemirror_mode": {
    "name": "ipython",
    "version": 3
   },
   "file_extension": ".py",
   "mimetype": "text/x-python",
   "name": "python",
   "nbconvert_exporter": "python",
   "pygments_lexer": "ipython3",
   "version": "3.8.16"
  }
 },
 "nbformat": 4,
 "nbformat_minor": 5
}
